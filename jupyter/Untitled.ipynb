{
 "cells": [
  {
   "cell_type": "code",
   "execution_count": 7,
   "id": "98b95680-5936-48c5-b442-e8751f083246",
   "metadata": {},
   "outputs": [],
   "source": [
    "a=10\n",
    "b=90"
   ]
  },
  {
   "cell_type": "code",
   "execution_count": null,
   "id": "a271aba5-ef2e-4b3a-b74d-1c986b1816e7",
   "metadata": {},
   "outputs": [],
   "source": []
  }
 ],
 "metadata": {
  "kernelspec": {
   "display_name": "Python 3 (ipykernel)",
   "language": "python",
   "name": "python3"
  },
  "language_info": {
   "codemirror_mode": {
    "name": "ipython",
    "version": 3
   },
   "file_extension": ".py",
   "mimetype": "text/x-python",
   "name": "python",
   "nbconvert_exporter": "python",
   "pygments_lexer": "ipython3",
   "version": "3.11.4"
  }
 },
 "nbformat": 4,
 "nbformat_minor": 5
}
